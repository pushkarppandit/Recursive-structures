{
 "cells": [
  {
   "cell_type": "code",
   "execution_count": 3,
   "metadata": {
    "collapsed": true
   },
   "outputs": [],
   "source": [
    "import numpy as np\n",
    "import pandas as pd\n",
    "import matplotlib.pyplot as plt"
   ]
  },
  {
   "cell_type": "code",
   "execution_count": 216,
   "metadata": {},
   "outputs": [
    {
     "data": {
      "image/png": "[encoded data removed]",
      "text/plain": [
       "<matplotlib.figure.Figure at 0x1f205b9f860>"
      ]
     },
     "metadata": {},
     "output_type": "display_data"
    }
   ],
   "source": [
    "xstart = np.array([0,0.3,0.45,0.7,1])\n",
    "ystart = np.array([0.0,0.6,0.65,0.4,0.2])\n",
    "n = 2000\n",
    "\n",
    "y_var = [-0.4,0.4]\n",
    "# x_prev = xstart\n",
    "x = xstart\n",
    "y = ystart\n",
    "for i in range(n):\n",
    "#     x_prev = x\n",
    "    rind =np.random.choice(range(1,len(x)))\n",
    "#     print(rind)\n",
    "    x_new = np.random.uniform(low=x[rind-1],high=x[rind])\n",
    "    #linear interpolation y value\n",
    "    y_lin = y[rind-1] + ((y[rind] - y[rind-1])/(x[rind] - x[rind-1]))*(x_new - x[rind-1])\n",
    "    y_new = y_lin + (x[rind] - x[rind-1])*np.random.uniform(low=y_var[0],high=y_var[1])\n",
    "    \n",
    "    x = np.insert(x,rind,x_new)\n",
    "    y = np.insert(y,rind,y_new)\n",
    "#     print('-------'+str(i)+'-------')\n",
    "#     print(y_new)\n",
    "#     print(x)\n",
    "#     print(y)\n",
    "#     plt.plot(x,y,'-')\n",
    "#     plt.show()\n",
    "plt.plot(xstart,ystart,'r:')\n",
    "# plt.plot(x,y,'-')\n",
    "mt = plt.fill_between(x,y)\n",
    "mt.set_color((0.,0.6,0.8,0.6))\n",
    "plt.ylim(np.min(y),np.min(y)+1)\n",
    "plt.show()"
   ]
  },
  {
   "cell_type": "code",
   "execution_count": null,
   "metadata": {},
   "outputs": [],
   "source": [
    "# colors\n",
    "# (0.3,0.3,0.7,0.8) light purple\n",
    "# (0,0.5,0.7,0.8) teal / dark cyan?\n",
    "# (0.1,0.2,0.4,0.6) bluish slate\n",
    "# (0.,0.6,0.8,0.6) sky blue ish\n"
   ]
  },
  {
   "cell_type": "code",
   "execution_count": 42,
   "metadata": {},
   "outputs": [
    {
     "data": {
      "text/plain": [
       "0.6807268290738362"
      ]
     },
     "execution_count": 42,
     "metadata": {},
     "output_type": "execute_result"
    }
   ],
   "source": [
    "np.random.uniform(low=0,high=1)"
   ]
  },
  {
   "cell_type": "code",
   "execution_count": 20,
   "metadata": {},
   "outputs": [
    {
     "data": {
      "text/plain": [
       "(array([0, 0, 0, 0, 0, 0, 1]),\n",
       " array([          0,           0, -2147483648,           0, -2147483648,\n",
       "                  0,           0]))"
      ]
     },
     "execution_count": 20,
     "metadata": {},
     "output_type": "execute_result"
    }
   ],
   "source": [
    "x, y"
   ]
  },
  {
   "cell_type": "code",
   "execution_count": 14,
   "metadata": {},
   "outputs": [
    {
     "name": "stdout",
     "output_type": "stream",
     "text": [
      "1\n"
     ]
    }
   ],
   "source": [
    "for u in range(1,len(x)):\n",
    "    print(u)"
   ]
  },
  {
   "cell_type": "code",
   "execution_count": 8,
   "metadata": {},
   "outputs": [
    {
     "data": {
      "text/plain": [
       "array([0, 1, 3])"
      ]
     },
     "execution_count": 8,
     "metadata": {},
     "output_type": "execute_result"
    }
   ],
   "source": [
    "np.insert(start,2,3)"
   ]
  }
 ],
 "metadata": {
  "kernelspec": {
   "display_name": "Python 3",
   "language": "python",
   "name": "python3"
  },
  "language_info": {
   "codemirror_mode": {
    "name": "ipython",
    "version": 3
   },
   "file_extension": ".py",
   "mimetype": "text/x-python",
   "name": "python",
   "nbconvert_exporter": "python",
   "pygments_lexer": "ipython3",
   "version": "3.6.2"
  }
 },
 "nbformat": 4,
 "nbformat_minor": 2
}
