{
 "cells": [
  {
   "cell_type": "code",
   "execution_count": 1,
   "metadata": {},
   "outputs": [],
   "source": [
    "import numpy as np\n",
    "import pandas as pd\n",
    "import matplotlib.pyplot as plt\n"
   ]
  },
  {
   "cell_type": "code",
   "execution_count": 9,
   "metadata": {},
   "outputs": [
    {
     "data": {
      "image/png": "[encoded data removed]",
      "text/plain": [
       "<Figure size 432x288 with 1 Axes>"
      ]
     },
     "metadata": {
      "needs_background": "light"
     },
     "output_type": "display_data"
    }
   ],
   "source": [
    "xstart = np.array([0,0.3,0.45,0.7,1])\n",
    "ystart = np.array([0.0,0.6,0.65,0.4,0.2])\n",
    "n = 2000\n",
    "\n",
    "y_var = [-0.4,0.4]\n",
    "# x_prev = xstart\n",
    "x = xstart\n",
    "y = ystart\n",
    "for i in range(n):\n",
    "#     x_prev = x\n",
    "    rind =np.random.choice(range(1,len(x)))\n",
    "#     print(rind)\n",
    "    x_new = np.random.uniform(low=x[rind-1],high=x[rind])\n",
    "    #linear interpolation y value\n",
    "    y_lin = y[rind-1] + ((y[rind] - y[rind-1])/(x[rind] - x[rind-1]))*(x_new - x[rind-1])\n",
    "    y_new = y_lin + (x[rind] - x[rind-1])*np.random.uniform(low=y_var[0],high=y_var[1])\n",
    "    \n",
    "    x = np.insert(x,rind,x_new)\n",
    "    y = np.insert(y,rind,y_new)\n",
    "#     print('-------'+str(i)+'-------')\n",
    "#     print(y_new)\n",
    "#     print(x)\n",
    "#     print(y)\n",
    "#     plt.plot(x,y,'-')\n",
    "#     plt.show()\n",
    "plt.plot(xstart,ystart,'r:')\n",
    "# plt.plot(x,y,'-')\n",
    "mt = plt.fill_between(x,y)\n",
    "mt.set_color((0.,0.6,0.8,0.6))\n",
    "plt.ylim(np.min(y),np.min(y)+1)\n",
    "plt.show()"
   ]
  },
  {
   "cell_type": "code",
   "execution_count": 6,
   "metadata": {},
   "outputs": [],
   "source": [
    "# colors\n",
    "# (0.3,0.3,0.7,0.8) light purple\n",
    "# (0,0.5,0.7,0.8) teal / dark cyan?\n",
    "# (0.1,0.2,0.4,0.6) bluish slate\n",
    "# (0.,0.6,0.8,0.6) sky blue ish\n"
   ]
  },
  {
   "cell_type": "code",
   "execution_count": 4,
   "metadata": {},
   "outputs": [
    {
     "data": {
      "text/plain": [
       "0.35893857323700673"
      ]
     },
     "execution_count": 4,
     "metadata": {},
     "output_type": "execute_result"
    }
   ],
   "source": [
    "np.random.uniform(low=0,high=1)"
   ]
  },
  {
   "cell_type": "code",
   "execution_count": 20,
   "metadata": {},
   "outputs": [
    {
     "data": {
      "text/plain": [
       "(array([0, 0, 0, 0, 0, 0, 1]),\n",
       " array([          0,           0, -2147483648,           0, -2147483648,\n",
       "                  0,           0]))"
      ]
     },
     "execution_count": 20,
     "metadata": {},
     "output_type": "execute_result"
    }
   ],
   "source": [
    "x, y"
   ]
  },
  {
   "cell_type": "code",
   "execution_count": 14,
   "metadata": {},
   "outputs": [
    {
     "name": "stdout",
     "output_type": "stream",
     "text": [
      "1\n"
     ]
    }
   ],
   "source": [
    "for u in range(1,len(x)):\n",
    "    print(u)"
   ]
  },
  {
   "cell_type": "code",
   "execution_count": 8,
   "metadata": {},
   "outputs": [
    {
     "data": {
      "text/plain": [
       "array([0, 1, 3])"
      ]
     },
     "execution_count": 8,
     "metadata": {},
     "output_type": "execute_result"
    }
   ],
   "source": [
    "np.insert(start,2,3)"
   ]
  },
  {
   "cell_type": "code",
   "execution_count": 99,
   "metadata": {},
   "outputs": [],
   "source": [
    "def recursive_mountain(init, n, bias, dev):\n",
    "    new = init.sum(axis=1)/2 + dev*np.random.normal() + np.array([0,bias])\n",
    "    \n",
    "    ins = np.concatenate([init[:,:1],new.reshape([2,1]),init[:,1:]],axis=1)\n",
    "    \n",
    "#     print(\"iteration: \",n)\n",
    "#     print(ins)\n",
    "#     print(\"-------------------------\")\n",
    "    if n>0:\n",
    "        ins = np.concatenate([recursive_mountain(ins[:,:2], n-1, bias/2, dev/2),ins[:,2:]],axis=1)\n",
    "        ins = np.concatenate([ins[:,:-2],recursive_mountain(ins[:,-2:], n-1, bias/2, dev/2)],axis=1)\n",
    "    \n",
    "    return ins"
   ]
  },
  {
   "cell_type": "code",
   "execution_count": 142,
   "metadata": {},
   "outputs": [],
   "source": [
    "rcoord = recursive_mountain(np.array([[0,1],[0,0]]),5,0.2,np.array([0.1,0.4]))"
   ]
  },
  {
   "cell_type": "code",
   "execution_count": 143,
   "metadata": {},
   "outputs": [
    {
     "data": {
      "image/png": "[encoded data removed]",
      "text/plain": [
       "<Figure size 360x360 with 1 Axes>"
      ]
     },
     "metadata": {
      "needs_background": "light"
     },
     "output_type": "display_data"
    }
   ],
   "source": [
    "fig, ax = plt.subplots(figsize=(5, 5))\n",
    "# plt.plot(x_init,y_init,'r:')\n",
    "# plt.plot(x,y,'-')\n",
    "mt = plt.fill_between(rcoord[0,:],rcoord[1,:])\n",
    "mt.set_color((0.,0.6,0.8,0.6))\n",
    "plt.ylim(rcoord[1,:].min(),rcoord[1,:].min() + 1)\n",
    "plt.show()"
   ]
  },
  {
   "cell_type": "code",
   "execution_count": 133,
   "metadata": {},
   "outputs": [
    {
     "data": {
      "text/plain": [
       "array([[2, 3],\n",
       "       [4, 5]])"
      ]
     },
     "execution_count": 133,
     "metadata": {},
     "output_type": "execute_result"
    }
   ],
   "source": [
    "test = np.array([[1,2,3],[3,4,5]])\n",
    "\n",
    "test[:,-2:]"
   ]
  },
  {
   "cell_type": "code",
   "execution_count": 59,
   "metadata": {},
   "outputs": [
    {
     "data": {
      "text/plain": [
       "array([[8],\n",
       "       [9]])"
      ]
     },
     "execution_count": 59,
     "metadata": {},
     "output_type": "execute_result"
    }
   ],
   "source": [
    "np.array([8,9]).reshape([2,1])"
   ]
  },
  {
   "cell_type": "code",
   "execution_count": 56,
   "metadata": {},
   "outputs": [
    {
     "data": {
      "text/plain": [
       "(array([[1],\n",
       "        [3]]), array([[8],\n",
       "        [9]]), array([[2, 3],\n",
       "        [4, 5]]))"
      ]
     },
     "execution_count": 56,
     "metadata": {},
     "output_type": "execute_result"
    }
   ],
   "source": [
    "test[:,:1],np.array([[8],[9]]),test[:,1:]"
   ]
  },
  {
   "cell_type": "code",
   "execution_count": 57,
   "metadata": {},
   "outputs": [
    {
     "data": {
      "text/plain": [
       "array([[1, 8, 2, 3],\n",
       "       [3, 9, 4, 5]])"
      ]
     },
     "execution_count": 57,
     "metadata": {},
     "output_type": "execute_result"
    }
   ],
   "source": [
    "# np.insert(test,obj=[1],values=[[8],[9]],axis=1)\n",
    "np.concatenate([test[:,:1],np.array([[8],[9]]),test[:,1:]],axis=1)"
   ]
  },
  {
   "cell_type": "code",
   "execution_count": 28,
   "metadata": {},
   "outputs": [
    {
     "data": {
      "text/plain": [
       "[1, 2, 3, 2, [2, 3], 4]"
      ]
     },
     "execution_count": 28,
     "metadata": {},
     "output_type": "execute_result"
    }
   ],
   "source": [
    "test"
   ]
  }
 ],
 "metadata": {
  "kernelspec": {
   "display_name": "Python 3",
   "language": "python",
   "name": "python3"
  },
  "language_info": {
   "codemirror_mode": {
    "name": "ipython",
    "version": 3
   },
   "file_extension": ".py",
   "mimetype": "text/x-python",
   "name": "python",
   "nbconvert_exporter": "python",
   "pygments_lexer": "ipython3",
   "version": "3.7.1"
  }
 },
 "nbformat": 4,
 "nbformat_minor": 2
}
